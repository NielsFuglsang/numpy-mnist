{
 "cells": [
  {
   "cell_type": "code",
   "execution_count": 1,
   "id": "agreed-alaska",
   "metadata": {},
   "outputs": [],
   "source": [
    "import matplotlib.pyplot as plt\n",
    "import numpy as np\n",
    "\n",
    "from helpers import read_mnist, format_data\n",
    "from nn import NeuralNetwork"
   ]
  },
  {
   "cell_type": "markdown",
   "id": "requested-divide",
   "metadata": {},
   "source": [
    "# Read data"
   ]
  },
  {
   "cell_type": "code",
   "execution_count": 2,
   "id": "straight-stand",
   "metadata": {},
   "outputs": [],
   "source": [
    "ims, labels, a, t = read_mnist()"
   ]
  },
  {
   "cell_type": "code",
   "execution_count": 3,
   "id": "racial-punishment",
   "metadata": {},
   "outputs": [],
   "source": [
    "X, y = format_data(ims, labels)"
   ]
  },
  {
   "cell_type": "code",
   "execution_count": 4,
   "id": "developing-lease",
   "metadata": {},
   "outputs": [
    {
     "data": {
      "text/plain": [
       "((10000, 784), (10000, 10))"
      ]
     },
     "execution_count": 4,
     "metadata": {},
     "output_type": "execute_result"
    }
   ],
   "source": [
    "X.shape, y.shape"
   ]
  },
  {
   "cell_type": "markdown",
   "id": "affiliated-attack",
   "metadata": {},
   "source": [
    "## Test training"
   ]
  },
  {
   "cell_type": "code",
   "execution_count": 5,
   "id": "fundamental-baseline",
   "metadata": {},
   "outputs": [],
   "source": [
    "nn = NeuralNetwork(layers=[784, 400, 200, 10])"
   ]
  },
  {
   "cell_type": "code",
   "execution_count": 6,
   "id": "dated-taylor",
   "metadata": {},
   "outputs": [],
   "source": [
    "nn.train(X, y)"
   ]
  },
  {
   "cell_type": "code",
   "execution_count": 7,
   "id": "documented-extreme",
   "metadata": {},
   "outputs": [],
   "source": [
    "yhat, a_s, z_s = nn.forward(X)"
   ]
  },
  {
   "cell_type": "code",
   "execution_count": 8,
   "id": "racial-grace",
   "metadata": {},
   "outputs": [
    {
     "data": {
      "text/plain": [
       "0.1806"
      ]
     },
     "execution_count": 8,
     "metadata": {},
     "output_type": "execute_result"
    }
   ],
   "source": [
    "np.mean(np.argmax(yhat,axis=1)==labels)"
   ]
  },
  {
   "cell_type": "code",
   "execution_count": null,
   "id": "prerequisite-slovakia",
   "metadata": {},
   "outputs": [],
   "source": []
  }
 ],
 "metadata": {
  "kernelspec": {
   "display_name": "Python 3",
   "language": "python",
   "name": "python3"
  },
  "language_info": {
   "codemirror_mode": {
    "name": "ipython",
    "version": 3
   },
   "file_extension": ".py",
   "mimetype": "text/x-python",
   "name": "python",
   "nbconvert_exporter": "python",
   "pygments_lexer": "ipython3",
   "version": "3.8.5"
  }
 },
 "nbformat": 4,
 "nbformat_minor": 5
}
