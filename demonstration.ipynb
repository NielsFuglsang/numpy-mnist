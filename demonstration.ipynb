{
 "cells": [
  {
   "cell_type": "markdown",
   "id": "sharp-heavy",
   "metadata": {},
   "source": [
    "# MNIST classification"
   ]
  },
  {
   "cell_type": "markdown",
   "id": "descending-being",
   "metadata": {},
   "source": [
    "**Course:** 02506 Advanced Image Analysis Spring 21\n",
    "\n",
    "**Authors:**  Allan Erlang Videbæk (s164197), Mads Emil Dahlgaard (s164206) and Niels Asp Nielsen (s164181)."
   ]
  },
  {
   "cell_type": "markdown",
   "id": "negative-sierra",
   "metadata": {},
   "source": [
    "***"
   ]
  },
  {
   "cell_type": "markdown",
   "id": "decreased-recall",
   "metadata": {},
   "source": [
    "## Explanation of project\n",
    "This notebook serves as a demonstration of the trained MNIST classifier. Run this notebook to get classification results on previously unseen data."
   ]
  },
  {
   "cell_type": "markdown",
   "id": "nutritional-adrian",
   "metadata": {},
   "source": [
    "### Code structure"
   ]
  },
  {
   "cell_type": "markdown",
   "id": "widespread-dragon",
   "metadata": {},
   "source": [
    "The Neural Network structure and augmentation is based only on NumPy.\n",
    "```\n",
    ".\n",
    "├── mnist                   # MNIST data.\n",
    "├── models                  # Trained models saved as pickles.\n",
    "├── nn.py                   # Code for Neural Network.\n",
    "├── augmentation.py         # Code for augmenting the MNIST dataset.\n",
    "├── data_augmentation.ipynb # Testing augmentation.\n",
    "├── deskew.py               # Code for deskewing MNIST images.\n",
    "├── helpers.py              # Helper functions for data handling.\n",
    "├── train.ipynb             # Notebook for training NNs.\n",
    "├── demonstration.ipynb     # Notebook for hand in and evaluation on test set.\n",
    "├── .gitignore\n",
    "└── README.md\n",
    "```"
   ]
  },
  {
   "cell_type": "markdown",
   "id": "cheap-latest",
   "metadata": {},
   "source": [
    "### Augmentation"
   ]
  },
  {
   "cell_type": "markdown",
   "id": "auburn-plain",
   "metadata": {},
   "source": [
    "We use data augmentation in order to expand the training set and add diversity. We expect that this will increase the model's ability to generalize. \n",
    "\n",
    "For data augmentation we use\n",
    "- Additive (Gaussian) noise.\n",
    "- Rotation between -25 and 25 degrees.\n",
    "- Mirroring and 180 degrees rotation (only of 0 and 8).\n",
    "\n",
    "See below for examples of the augmented images."
   ]
  },
  {
   "cell_type": "code",
   "execution_count": 1,
   "id": "nervous-adobe",
   "metadata": {},
   "outputs": [
    {
     "data": {
      "image/png": "[encoded data removed]",
      "text/plain": [
       "<Figure size 720x360 with 5 Axes>"
      ]
     },
     "metadata": {
      "needs_background": "light"
     },
     "output_type": "display_data"
    }
   ],
   "source": [
    "from augmentation import load_augmented\n",
    "from helpers import read_mnist\n",
    "import numpy as np\n",
    "import matplotlib.pyplot as plt\n",
    "ims, labels, a, t = read_mnist()\n",
    "ims_aug, labels_aug = load_augmented()\n",
    "# Show augmented data.\n",
    "fig, axes = plt.subplots(1,5,figsize=(10,5))\n",
    "for i in range(5):\n",
    "    idx = np.random.randint(10000)\n",
    "    axes[i].imshow(ims_aug[idx])\n",
    "    axes[i].set_title(f'Lab. {labels_aug[idx]}')\n",
    "plt.show()"
   ]
  },
  {
   "cell_type": "markdown",
   "id": "contrary-maria",
   "metadata": {},
   "source": [
    "### Preprocessing"
   ]
  },
  {
   "cell_type": "markdown",
   "id": "quiet-disaster",
   "metadata": {},
   "source": [
    "We tested out deskewing. We tried with and without deskewing and it turned out to improve the results quite a lot when using deskewing. Deskewing is basically an affine transformation where the image is offset by the center of mass of the image and the covariance matrix of the image is used to estimate the skew."
   ]
  },
  {
   "cell_type": "markdown",
   "id": "confused-figure",
   "metadata": {},
   "source": [
    "### Hyperparameters"
   ]
  },
  {
   "cell_type": "markdown",
   "id": "cardiac-bottom",
   "metadata": {},
   "source": [
    "We implemented momentum in the neural network as a way of adapting the weight updates to hopefully increase learning speed and avoid local minima. We varied the momentum between 0.0 and 0.9. The learning rate was kept fixed at 0.001. We also tested out different Neural Network architectures. Furthermore, we used augmentation and deskewing as a hyperparameter (i.e. whether to use it or not). The number of epochs were fixed at 200 regardless of the architecture (we considered to implement early stopping, but did not have the time). To train the model we used mini-batch gradient descent with a fixed batch size of 200. "
   ]
  },
  {
   "cell_type": "markdown",
   "id": "aware-warehouse",
   "metadata": {},
   "source": [
    "### Model selection"
   ]
  },
  {
   "cell_type": "markdown",
   "id": "adverse-oklahoma",
   "metadata": {},
   "source": [
    "The experiments were run on the HPC cluster on a Intel(R) Xeon(R) Gold 6126 CPU @ 2.60GHz.\n",
    "\n",
    "The data set was split into a training set of 48000 images and a validation set of 12000 images (when using data augmentation the training set is doubled to 96000 images). The best model is selected as the model performing best on the validation set.\n",
    "\n",
    "The best performing model on the validation set is retrained on the entire dataset of 60000 images.\n",
    "\n",
    "All models are trained using 200 epochs and a batch size of 200. The experiments are shown in the table below. We see that in general momentum, augmentation, and deskewing improves the validation set accuracy.\n",
    "\n",
    "The best performing model is chosen as a Neural Network with the layers [784, 500, 300, 10], where the training set is augmented and images are deskewed as part of the preprocessing. That model resulted in an accuracy of 0.986 on the validation set. Since the validation set is relatively large, we expect that this is a good estimate of the generalization error. "
   ]
  },
  {
   "cell_type": "markdown",
   "id": "virtual-function",
   "metadata": {},
   "source": [
    "| Architecture | Hyper params | Augmentation | Preprocessing | Validation set accuracy |\n",
    "| :--- | :--- | :--- | :--- | ---: |\n",
    "| MLP [784, 400, 200, 10] | [$\\eta$=0.001, $\\gamma$=0.0]  | No | No | .942 |\n",
    "| MLP [784, 400, 200, 10] | [$\\eta$=0.001, $\\gamma$=0.5]  | No | No | .966 |\n",
    "| MLP [784, 400, 200, 10] | [$\\eta$=0.001, $\\gamma$=0.9]  | No | No | .971 |\n",
    "| MLP [784, 800, 10] | [$\\eta$=0.001, $\\gamma$=0.9] | No | No | .972 |\n",
    "| MLP [784, 400, 200, 10] | [$\\eta$=0.001, $\\gamma$=0.9] | Yes | No | .977|\n",
    "| MLP [784, 500, 300, 10] | [$\\eta$=0.001, $\\gamma$=0.9]  | Yes | No | .979 |\n",
    "| MLP [784, 800, 10] | [$\\eta$=0.001, $\\gamma$=0.9] | Yes | No | .979 |\n",
    "| MLP [784, 800, 10] | [$\\eta$=0.001, $\\gamma$=0.9] | No | Deskewing | .979 |\n",
    "| MLP [784, 800, 10] | [$\\eta$=0.001, $\\gamma$=0.9] | Yes | Deskewing | .985 |\n",
    "| MLP [784, 500, 300, 10] | [$\\eta$=0.001, $\\gamma$=0.9] | Yes | Deskewing | .986 |\n",
    "**Figure:** *$\\eta$ specifies the learning rate and $\\gamma$ specifies the momentum.*"
   ]
  },
  {
   "cell_type": "markdown",
   "id": "sized-profession",
   "metadata": {},
   "source": [
    "***"
   ]
  },
  {
   "cell_type": "markdown",
   "id": "impressive-values",
   "metadata": {},
   "source": [
    "## Evaluating on unseen data"
   ]
  },
  {
   "cell_type": "code",
   "execution_count": null,
   "id": "specialized-maintenance",
   "metadata": {},
   "outputs": [],
   "source": [
    "import pickle\n",
    "import numpy as np\n",
    "import matplotlib.pyplot as plt\n",
    "from helpers import read_mnist, format_data, load_nn\n",
    "\n",
    "from deskew import deskew_all"
   ]
  },
  {
   "cell_type": "markdown",
   "id": "lasting-journalist",
   "metadata": {},
   "source": [
    "### Load data and neural network model"
   ]
  },
  {
   "cell_type": "markdown",
   "id": "wanted-census",
   "metadata": {},
   "source": [
    "Specify paths to the data below. By default these are set to the 10k test images."
   ]
  },
  {
   "cell_type": "code",
   "execution_count": null,
   "id": "naval-clinic",
   "metadata": {},
   "outputs": [],
   "source": [
    "# Specify path to test images. The default test set is included in the mnist folder and specified by default below.\n",
    "im_path = 'mnist/t10k-images-idx3-ubyte'\n",
    "lab_path = 'mnist/t10k-labels-idx1-ubyte'\n",
    "\n",
    "ims, labels, a, t = read_mnist(im_path, lab_path)\n",
    "# Format X as (n_obs, n_features) and onehot encode y.\n",
    "X, y = format_data(ims, labels)"
   ]
  },
  {
   "cell_type": "code",
   "execution_count": null,
   "id": "nonprofit-lottery",
   "metadata": {},
   "outputs": [],
   "source": [
    "print(f\"Shape of X: {X.shape}, shape of y: {y.shape}\")\n",
    "assert X.shape[0] == y.shape[0]"
   ]
  },
  {
   "cell_type": "code",
   "execution_count": null,
   "id": "transsexual-arlington",
   "metadata": {},
   "outputs": [],
   "source": [
    "# Load neural network model.\n",
    "nn = load_nn('models/best_nn.pkl')"
   ]
  },
  {
   "cell_type": "code",
   "execution_count": null,
   "id": "enclosed-brook",
   "metadata": {},
   "outputs": [],
   "source": [
    "print(f\"The neural network has {nn.num_layers} layers.\")\n",
    "for i, num_units in enumerate(nn.layers):\n",
    "    print(f\"Layer {i} has {num_units} units.\")\n",
    "print(f\"The learning rate of the network during training is {nn.lr}.\")\n",
    "if nn.momentum>0:\n",
    "    print(f\"The neural network used momentum of {nn.momentum} during training.\")"
   ]
  },
  {
   "cell_type": "markdown",
   "id": "prepared-texas",
   "metadata": {},
   "source": [
    "### Run and evaluate model on the data"
   ]
  },
  {
   "cell_type": "code",
   "execution_count": null,
   "id": "subtle-tactics",
   "metadata": {},
   "outputs": [],
   "source": [
    "X = deskew_all(X)\n",
    "yhat, _, _ = nn.forward(X)\n",
    "pred_labels = np.argmax(yhat,axis=1)"
   ]
  },
  {
   "cell_type": "code",
   "execution_count": null,
   "id": "internal-regular",
   "metadata": {},
   "outputs": [],
   "source": [
    "print(f\"The classification accuracy is {np.mean(pred_labels==labels)}.\")"
   ]
  },
  {
   "cell_type": "markdown",
   "id": "operating-mounting",
   "metadata": {},
   "source": [
    "***"
   ]
  },
  {
   "cell_type": "markdown",
   "id": "boxed-conjunction",
   "metadata": {},
   "source": [
    "## Investigating the misclassifications"
   ]
  },
  {
   "cell_type": "code",
   "execution_count": null,
   "id": "valued-holly",
   "metadata": {},
   "outputs": [],
   "source": [
    "# Get missclassifications.\n",
    "misses = pred_labels!=labels\n",
    "miss_preds = pred_labels[misses]\n",
    "miss_labels = labels[misses]\n",
    "miss_ims = ims[misses]"
   ]
  },
  {
   "cell_type": "code",
   "execution_count": null,
   "id": "pacific-surface",
   "metadata": {},
   "outputs": [],
   "source": [
    "print(f\"Total misclassifications: {len(miss_labels)}\")\n",
    "for i in range(10):\n",
    "    print(f\"Misclassifications with true label {i}: {np.sum(miss_labels==i)}.\")"
   ]
  },
  {
   "cell_type": "code",
   "execution_count": null,
   "id": "atomic-running",
   "metadata": {},
   "outputs": [],
   "source": [
    "fig, ax = plt.subplots(4,4,figsize=(10,12)) \n",
    "ax = ax.ravel()\n",
    "idxs = np.random.permutation(miss_ims.shape[0])\n",
    "\n",
    "if len(idxs) < 16:\n",
    "    print(\"Less than 16 misclassifications.\")\n",
    "else:\n",
    "    for i in range(16):\n",
    "        idx = idxs[i]\n",
    "        ax[i].imshow(miss_ims[idx])\n",
    "        ax[i].set_title(f'True: {miss_labels[idx]}, Pred: {miss_preds[idx]}')\n",
    "    plt.show()"
   ]
  }
 ],
 "metadata": {
  "kernelspec": {
   "display_name": "Python 3",
   "language": "python",
   "name": "python3"
  },
  "language_info": {
   "codemirror_mode": {
    "name": "ipython",
    "version": 3
   },
   "file_extension": ".py",
   "mimetype": "text/x-python",
   "name": "python",
   "nbconvert_exporter": "python",
   "pygments_lexer": "ipython3",
   "version": "3.8.5"
  }
 },
 "nbformat": 4,
 "nbformat_minor": 5
}
