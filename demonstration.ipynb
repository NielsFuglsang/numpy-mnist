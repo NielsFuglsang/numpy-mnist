{
 "cells": [
  {
   "cell_type": "markdown",
   "id": "interracial-estate",
   "metadata": {},
   "source": [
    "# MNIST classification"
   ]
  },
  {
   "cell_type": "markdown",
   "id": "varying-bones",
   "metadata": {},
   "source": [
    "**Course:** 02506 Advanced Image Analysis Spring 21\n",
    "\n",
    "**Authors:**  Allan Erlang Videbæk (s164197), Mads Emil Dahlgaard (s164206) and Niels Asp Nielsen (s164181)."
   ]
  },
  {
   "cell_type": "markdown",
   "id": "considered-cabin",
   "metadata": {},
   "source": [
    "***"
   ]
  },
  {
   "cell_type": "markdown",
   "id": "straight-bottom",
   "metadata": {},
   "source": [
    "## Explanation of project\n",
    "This notebook serves as a demonstration of the trained MNIST classifier. Run this notebook to get classification results on previously unseen data."
   ]
  },
  {
   "cell_type": "markdown",
   "id": "civilian-chain",
   "metadata": {},
   "source": [
    "### Code structure"
   ]
  },
  {
   "cell_type": "markdown",
   "id": "under-movement",
   "metadata": {},
   "source": [
    "The only used 3rd party libraries are NumPy and Matplotlib.\n",
    "```\n",
    ".\n",
    "├── mnist                   # MNIST data.\n",
    "├── models                  # Trained models saved as pickles.\n",
    "├── nn.py                   # Code for Neural Network.\n",
    "├── augmentation.py         # Code for augmenting the MNIST dataset.\n",
    "├── helpers.py              # Helper functions for data handling.\n",
    "├── demonstration.ipynb     # Notebook for hand in and evaluation on test set.\n",
    "├── .gitignore\n",
    "└── README.md\n",
    "```"
   ]
  },
  {
   "cell_type": "markdown",
   "id": "computational-blind",
   "metadata": {},
   "source": [
    "### Augmentation"
   ]
  },
  {
   "cell_type": "markdown",
   "id": "mounted-sixth",
   "metadata": {},
   "source": [
    "We use data augmentation in order to expand the training set and add diversity. We expect that this will increase the model's ability to generalize. \n",
    "\n",
    "For data augmentation we use\n",
    "- Additive (Gaussian) noise.\n",
    "- Rotation between -25 and 25 degrees.\n",
    "- Mirroring and 180 degrees rotation (only of 0 and 8)."
   ]
  },
  {
   "cell_type": "markdown",
   "id": "bottom-march",
   "metadata": {},
   "source": [
    "### Preprocessing"
   ]
  },
  {
   "cell_type": "markdown",
   "id": "continuous-immunology",
   "metadata": {},
   "source": [
    "We tested out deskewing. We tried with and without deskewing and it turned out to improve the results quite a lot when using deskewing. Deskewing is basically an affine transformation. The image is offset by the center of mass of the image and the covariance matrix of the image is used to estimate the skew."
   ]
  },
  {
   "cell_type": "markdown",
   "id": "pregnant-chart",
   "metadata": {},
   "source": [
    "### Model selection"
   ]
  },
  {
   "cell_type": "markdown",
   "id": "listed-helmet",
   "metadata": {},
   "source": [
    "The experiments are run on the HPC cluster on a Intel(R) Xeon(R) Gold 6126 CPU @ 2.60GHz.\n",
    "\n",
    "The data set is split into a training set of 48000 images and a validation set of 12000 images. The best model is selected as the model performing best on the test set.\n",
    "\n",
    "All models are trained using 200 epochs and a batch size of 200. The experiments are shown in the table below."
   ]
  },
  {
   "cell_type": "markdown",
   "id": "protective-contributor",
   "metadata": {},
   "source": [
    "| Architecture | Hyper params | Augmentation | Preprocessing | Validation set accuracy |\n",
    "| :--- | :--- | :--- | :--- | ---: |\n",
    "| MLP [784, 400, 200, 10] | [$\\eta$=0.001, $\\gamma$=0.0]  | No | No | .942 |\n",
    "| MLP [784, 400, 200, 10] | [$\\eta$=0.001, $\\gamma$=0.5]  | No | No | .966 |\n",
    "| MLP [784, 400, 200, 10] | [$\\eta$=0.001, $\\gamma$=0.9]  | No | No | .971 |\n",
    "| MLP [784, 800, 10] | [$\\eta$=0.001, $\\gamma$=0.9] | No | No | .972 |\n",
    "| MLP [784, 400, 200, 10] | [$\\eta$=0.001, $\\gamma$=0.9] | Yes | No | .977|\n",
    "| MLP [784, 500, 300, 10] | [$\\eta$=0.001, $\\gamma$=0.9]  | Yes | No | .979 |\n",
    "| MLP [784, 800, 10] | [$\\eta$=0.001, $\\gamma$=0.9] | Yes | No | .979 |\n",
    "| MLP [784, 800, 10] | [$\\eta$=0.001, $\\gamma$=0.9] | No | Yes | .979 |\n",
    "| MLP [784, 800, 10] | [$\\eta$=0.001, $\\gamma$=0.9] | Yes | Deskewing | .985 |\n",
    "| MLP [784, 500, 300, 10] | [$\\eta$=0.001, $\\gamma$=0.9] | Yes | Deskewing | .986 |"
   ]
  },
  {
   "cell_type": "markdown",
   "id": "manufactured-phase",
   "metadata": {},
   "source": [
    "We choose the best model based on the validation set accuracy from the above table and retrain the model on the entire dataset of 60000 images."
   ]
  },
  {
   "cell_type": "markdown",
   "id": "theoretical-alarm",
   "metadata": {},
   "source": [
    "***"
   ]
  },
  {
   "cell_type": "markdown",
   "id": "suburban-floating",
   "metadata": {},
   "source": [
    "## Evaluating on unseen data"
   ]
  },
  {
   "cell_type": "code",
   "execution_count": 1,
   "id": "bright-beverage",
   "metadata": {},
   "outputs": [],
   "source": [
    "import pickle\n",
    "import numpy as np\n",
    "import matplotlib.pyplot as plt\n",
    "from helpers import read_mnist, format_data, load_nn\n",
    "\n",
    "from deskew import deskew_all"
   ]
  },
  {
   "cell_type": "markdown",
   "id": "strange-budget",
   "metadata": {},
   "source": [
    "### Load data and neural network model"
   ]
  },
  {
   "cell_type": "markdown",
   "id": "temporal-attendance",
   "metadata": {},
   "source": [
    "Specify paths to the data below. By default these are set to the 10k test images."
   ]
  },
  {
   "cell_type": "code",
   "execution_count": 2,
   "id": "crucial-summer",
   "metadata": {},
   "outputs": [],
   "source": [
    "im_path = 'mnist/t10k-images-idx3-ubyte'\n",
    "lab_path = 'mnist/t10k-labels-idx1-ubyte'\n",
    "ims, labels, a, t = read_mnist(im_path, lab_path)\n",
    "# Format X as (n_obs, n_features) and onehot encode y.\n",
    "X, y = format_data(ims, labels)"
   ]
  },
  {
   "cell_type": "code",
   "execution_count": 3,
   "id": "numerical-pierce",
   "metadata": {},
   "outputs": [
    {
     "name": "stdout",
     "output_type": "stream",
     "text": [
      "Shape of X: (10000, 784), shape of y: (10000, 10)\n"
     ]
    }
   ],
   "source": [
    "print(f\"Shape of X: {X.shape}, shape of y: {y.shape}\")"
   ]
  },
  {
   "cell_type": "code",
   "execution_count": 8,
   "id": "express-hospital",
   "metadata": {},
   "outputs": [],
   "source": [
    "# Load neural network model.\n",
    "nn = load_nn('models/deskew_0.979.pkl')"
   ]
  },
  {
   "cell_type": "code",
   "execution_count": 9,
   "id": "normal-funeral",
   "metadata": {},
   "outputs": [
    {
     "name": "stdout",
     "output_type": "stream",
     "text": [
      "The neural network has 3 layers.\n",
      "Layer 0 has 784 units.\n",
      "Layer 1 has 800 units.\n",
      "Layer 2 has 10 units.\n",
      "The learning rate of the network during training is 0.001.\n",
      "The neural network used momentum of 0.9 during training.\n"
     ]
    }
   ],
   "source": [
    "print(f\"The neural network has {nn.num_layers} layers.\")\n",
    "for i, num_units in enumerate(nn.layers):\n",
    "    print(f\"Layer {i} has {num_units} units.\")\n",
    "print(f\"The learning rate of the network during training is {nn.lr}.\")\n",
    "if nn.momentum>0:\n",
    "    print(f\"The neural network used momentum of {nn.momentum} during training.\")"
   ]
  },
  {
   "cell_type": "markdown",
   "id": "imposed-porter",
   "metadata": {},
   "source": [
    "### Run and evaluate model on the data"
   ]
  },
  {
   "cell_type": "code",
   "execution_count": 10,
   "id": "verified-daisy",
   "metadata": {},
   "outputs": [],
   "source": [
    "X = deskew_all(X)\n",
    "yhat, _, _ = nn.forward(X)\n",
    "pred_labels = np.argmax(yhat,axis=1)"
   ]
  },
  {
   "cell_type": "code",
   "execution_count": 11,
   "id": "italic-hindu",
   "metadata": {},
   "outputs": [
    {
     "name": "stdout",
     "output_type": "stream",
     "text": [
      "The classification accuracy is 0.9835.\n"
     ]
    }
   ],
   "source": [
    "print(f\"The classification accuracy is {np.mean(pred_labels==labels)}.\")"
   ]
  },
  {
   "cell_type": "markdown",
   "id": "painted-fundamental",
   "metadata": {},
   "source": [
    "***"
   ]
  },
  {
   "cell_type": "markdown",
   "id": "useful-salvation",
   "metadata": {},
   "source": [
    "## Investigating the misclassifications"
   ]
  },
  {
   "cell_type": "code",
   "execution_count": 8,
   "id": "nervous-humor",
   "metadata": {},
   "outputs": [],
   "source": [
    "# Get missclassifications.\n",
    "misses = pred_labels!=labels\n",
    "miss_preds = pred_labels[misses]\n",
    "miss_labels = labels[misses]\n",
    "miss_ims = ims[misses]"
   ]
  },
  {
   "cell_type": "code",
   "execution_count": 9,
   "id": "demographic-today",
   "metadata": {},
   "outputs": [
    {
     "name": "stdout",
     "output_type": "stream",
     "text": [
      "Total misclassifications: 122\n",
      "Misclassifications with true label 0: 8.\n",
      "Misclassifications with true label 1: 6.\n",
      "Misclassifications with true label 2: 18.\n",
      "Misclassifications with true label 3: 14.\n",
      "Misclassifications with true label 4: 7.\n",
      "Misclassifications with true label 5: 16.\n",
      "Misclassifications with true label 6: 11.\n",
      "Misclassifications with true label 7: 15.\n",
      "Misclassifications with true label 8: 10.\n",
      "Misclassifications with true label 9: 17.\n"
     ]
    }
   ],
   "source": [
    "print(f\"Total misclassifications: {len(miss_labels)}\")\n",
    "for i in range(10):\n",
    "    print(f\"Misclassifications with true label {i}: {np.sum(miss_labels==i)}.\")"
   ]
  },
  {
   "cell_type": "code",
   "execution_count": 11,
   "id": "timely-quantity",
   "metadata": {},
   "outputs": [
    {
     "data": {
      "image/png": "[encoded data removed]",
      "text/plain": [
       "<Figure size 864x1008 with 16 Axes>"
      ]
     },
     "metadata": {
      "needs_background": "light"
     },
     "output_type": "display_data"
    }
   ],
   "source": [
    "fig, ax = plt.subplots(4,4,figsize=(12,14)) \n",
    "ax = ax.ravel()\n",
    "idxs = np.random.permutation(miss_ims.shape[0])\n",
    "\n",
    "if len(idxs) < 16:\n",
    "    print(\"Less than 16 misclassifications.\")\n",
    "else:\n",
    "    for i in range(16):\n",
    "        idx = idxs[i]\n",
    "        ax[i].imshow(miss_ims[idx])\n",
    "        ax[i].set_title(f'True: {miss_labels[idx]}, Pred: {miss_preds[idx]}')\n",
    "    plt.show()"
   ]
  },
  {
   "cell_type": "markdown",
   "id": "simple-budapest",
   "metadata": {},
   "source": [
    "# TODO\n",
    "- Show images of augmentation\n",
    "- Mention we use momentum\n",
    "- Remove all numbers from cells\n",
    "- Clean up github\n",
    "- Save best model in models"
   ]
  },
  {
   "cell_type": "markdown",
   "id": "excess-saudi",
   "metadata": {},
   "source": [
    "model overview (delete before handing in)\n",
    "- final_1h_aug: 0.9831\n",
    "- final_2h_aug: 0.9842\n",
    "- final_1h_deskew_aug: 0.9868\n",
    "- final_2h_deskew_aug: 0.9878\n",
    "- final_2h_big_deskew_aug: 0.9879\n"
   ]
  },
  {
   "cell_type": "code",
   "execution_count": null,
   "id": "excessive-france",
   "metadata": {},
   "outputs": [],
   "source": []
  }
 ],
 "metadata": {
  "kernelspec": {
   "display_name": "Python 3",
   "language": "python",
   "name": "python3"
  },
  "language_info": {
   "codemirror_mode": {
    "name": "ipython",
    "version": 3
   },
   "file_extension": ".py",
   "mimetype": "text/x-python",
   "name": "python",
   "nbconvert_exporter": "python",
   "pygments_lexer": "ipython3",
   "version": "3.8.5"
  }
 },
 "nbformat": 4,
 "nbformat_minor": 5
}
