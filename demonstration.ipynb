{
 "cells": [
  {
   "cell_type": "markdown",
   "id": "moved-yorkshire",
   "metadata": {},
   "source": [
    "# MNIST classification"
   ]
  },
  {
   "cell_type": "markdown",
   "id": "challenging-iraqi",
   "metadata": {},
   "source": [
    "**Course:** 02506 Advanced Image Analysis Spring 21\n",
    "\n",
    "**Authors:**  Allan Erlang Videbæk (s164197), Mads Emil Dahlgaard (s164206) and Niels Asp Nielsen (s164181)."
   ]
  },
  {
   "cell_type": "code",
   "execution_count": 30,
   "id": "legal-series",
   "metadata": {},
   "outputs": [],
   "source": [
    "import pickle\n",
    "import numpy as np\n",
    "import matplotlib.pyplot as plt\n",
    "from helpers import read_mnist, format_data, load_nn"
   ]
  },
  {
   "cell_type": "markdown",
   "id": "accurate-insider",
   "metadata": {},
   "source": [
    "***"
   ]
  },
  {
   "cell_type": "markdown",
   "id": "analyzed-structure",
   "metadata": {},
   "source": [
    "## Explanation of project\n",
    "This notebook serves as a demonstration of the trained MNIST classifier. Run this notebook to get classification results on previously unseen data."
   ]
  },
  {
   "cell_type": "markdown",
   "id": "medieval-biodiversity",
   "metadata": {},
   "source": [
    "### Code structure"
   ]
  },
  {
   "cell_type": "markdown",
   "id": "comfortable-longer",
   "metadata": {},
   "source": [
    "The only used 3rd party libraries are NumPy and Matplotlib.\n",
    "```\n",
    ".\n",
    "├── mnist                   # MNIST data.\n",
    "├── models                  # Trained models saved as pickles.\n",
    "├── nn.py                   # Code for Neural Network.\n",
    "├── augmentation.py         # Code for augmenting the MNIST dataset.\n",
    "├── helpers.py              # Helper functions for data handling.\n",
    "├── demonstration.ipynb     # Notebook for hand in and evaluation on test set.\n",
    "├── .gitignore\n",
    "└── README.md\n",
    "```"
   ]
  },
  {
   "cell_type": "markdown",
   "id": "baking-competition",
   "metadata": {},
   "source": [
    "### Pre-processing"
   ]
  },
  {
   "cell_type": "markdown",
   "id": "guilty-review",
   "metadata": {},
   "source": [
    "We use data augmentation in order to expand the training set and add diversity. We expect that this will increase the model's ability to generalize. \n",
    "\n",
    "For data augmentation we use\n",
    "- Additive (Gaussian) noise.\n",
    "- Rotation between -25 and 25 degrees.\n",
    "- Mirroring and 180 degrees rotation (only of 0 and 8).\n",
    "- Elastic deformation."
   ]
  },
  {
   "cell_type": "markdown",
   "id": "metallic-router",
   "metadata": {},
   "source": [
    "### Model selection"
   ]
  },
  {
   "cell_type": "markdown",
   "id": "waiting-motel",
   "metadata": {},
   "source": [
    "The data set is split into a training set of 48000 images and a validation set of 12000 images. The best model is selected as the model performing best on the test set.\n",
    "\n",
    "All models are trained using 200 epochs and a batch size of 200."
   ]
  },
  {
   "cell_type": "markdown",
   "id": "modular-albania",
   "metadata": {},
   "source": [
    "| Architecture | Hyper params | Augmentation | Validation set accuracy |\n",
    "| :--- | :--- | :--- | ---: |\n",
    "| MLP [784, 400, 200, 10] | [$\\eta$=0.001, $\\gamma$=0.5]  | No | .966 |\n",
    "| MLP [784, 400, 200, 10] | [$\\eta$=0.001, $\\gamma$=0.9]  | No | .971 |\n",
    "| MLP [784, 800, 10] | [$\\eta$=0.001, $\\gamma$=0.9] | No | .972 |\n",
    "| MLP [784, 400, 200, 10] | [$\\eta$=0.001, $\\gamma$=0.9] | Yes | .977|\n",
    "| MLP [784, 500, 300, 10] | [$\\eta$=0.001, $\\gamma$=0.9]  | Yes | .979 |\n",
    "| MLP [784, 800, 10] | [$\\eta$=0.001, $\\gamma$=0.9] | Yes | .979 |"
   ]
  },
  {
   "cell_type": "markdown",
   "id": "ignored-balance",
   "metadata": {},
   "source": [
    "***"
   ]
  },
  {
   "cell_type": "markdown",
   "id": "minute-emission",
   "metadata": {},
   "source": [
    "## Evaluating on unseen data"
   ]
  },
  {
   "cell_type": "markdown",
   "id": "front-prisoner",
   "metadata": {},
   "source": [
    "### Load data and neural network model"
   ]
  },
  {
   "cell_type": "markdown",
   "id": "auburn-intersection",
   "metadata": {},
   "source": [
    "Specify paths to the data below. By default these are set to the 10k test images."
   ]
  },
  {
   "cell_type": "code",
   "execution_count": 31,
   "id": "chicken-creativity",
   "metadata": {},
   "outputs": [],
   "source": [
    "im_path = 'mnist/t10k-images-idx3-ubyte'\n",
    "lab_path = 'mnist/t10k-labels-idx1-ubyte'\n",
    "ims, labels, a, t = read_mnist(im_path, lab_path)\n",
    "# Format X as (n_obs, n_features) and onehot encode y.\n",
    "X, y = format_data(ims, labels)"
   ]
  },
  {
   "cell_type": "code",
   "execution_count": 32,
   "id": "healthy-texas",
   "metadata": {},
   "outputs": [
    {
     "name": "stdout",
     "output_type": "stream",
     "text": [
      "Shape of X: (10000, 784), shape of y: (10000, 10)\n"
     ]
    }
   ],
   "source": [
    "print(f\"Shape of X: {X.shape}, shape of y: {y.shape}\")"
   ]
  },
  {
   "cell_type": "code",
   "execution_count": 71,
   "id": "derived-brisbane",
   "metadata": {},
   "outputs": [],
   "source": [
    "# Load neural network model.\n",
    "nn = load_nn('models/0.980.pkl')"
   ]
  },
  {
   "cell_type": "code",
   "execution_count": 72,
   "id": "exclusive-disclaimer",
   "metadata": {},
   "outputs": [
    {
     "name": "stdout",
     "output_type": "stream",
     "text": [
      "The neural network has 4 layers.\n",
      "Layer 0 has 784 units.\n",
      "Layer 1 has 500 units.\n",
      "Layer 2 has 300 units.\n",
      "Layer 3 has 10 units.\n",
      "The learning rate of the network during training is 0.001.\n",
      "The neural network used momentum of 0.9 during training.\n"
     ]
    }
   ],
   "source": [
    "print(f\"The neural network has {nn.num_layers} layers.\")\n",
    "for i, num_units in enumerate(nn.layers):\n",
    "    print(f\"Layer {i} has {num_units} units.\")\n",
    "print(f\"The learning rate of the network during training is {nn.lr}.\")\n",
    "if nn.momentum>0:\n",
    "    print(f\"The neural network used momentum of {nn.momentum} during training.\")"
   ]
  },
  {
   "cell_type": "markdown",
   "id": "pressed-practitioner",
   "metadata": {},
   "source": [
    "### Run and evaluate model on the data"
   ]
  },
  {
   "cell_type": "code",
   "execution_count": 73,
   "id": "medieval-arthur",
   "metadata": {},
   "outputs": [],
   "source": [
    "yhat, _, _ = nn.forward(X)\n",
    "pred_labels = np.argmax(yhat,axis=1)"
   ]
  },
  {
   "cell_type": "code",
   "execution_count": 74,
   "id": "brilliant-discharge",
   "metadata": {},
   "outputs": [
    {
     "name": "stdout",
     "output_type": "stream",
     "text": [
      "The classification accuracy is 0.9807.\n"
     ]
    }
   ],
   "source": [
    "print(f\"The classification accuracy is {np.mean(pred_labels==labels)}.\")"
   ]
  },
  {
   "cell_type": "markdown",
   "id": "running-equality",
   "metadata": {},
   "source": [
    "***"
   ]
  },
  {
   "cell_type": "markdown",
   "id": "secret-grain",
   "metadata": {},
   "source": [
    "## Investigating the misclassifications"
   ]
  },
  {
   "cell_type": "code",
   "execution_count": 68,
   "id": "paperback-doctor",
   "metadata": {},
   "outputs": [],
   "source": [
    "# Get missclassifications.\n",
    "misses = pred_labels!=labels\n",
    "miss_preds = pred_labels[misses]\n",
    "miss_labels = labels[misses]\n",
    "miss_ims = ims[misses]"
   ]
  },
  {
   "cell_type": "code",
   "execution_count": 69,
   "id": "electrical-piece",
   "metadata": {},
   "outputs": [
    {
     "name": "stdout",
     "output_type": "stream",
     "text": [
      "Total misclassifications: 228\n",
      "Misclassifications with true label 0: 14.\n",
      "Misclassifications with true label 1: 15.\n",
      "Misclassifications with true label 2: 22.\n",
      "Misclassifications with true label 3: 21.\n",
      "Misclassifications with true label 4: 21.\n",
      "Misclassifications with true label 5: 24.\n",
      "Misclassifications with true label 6: 19.\n",
      "Misclassifications with true label 7: 24.\n",
      "Misclassifications with true label 8: 34.\n",
      "Misclassifications with true label 9: 34.\n"
     ]
    }
   ],
   "source": [
    "print(f\"Total misclassifications: {len(miss_labels)}\")\n",
    "for i in range(10):\n",
    "    print(f\"Misclassifications with true label {i}: {np.sum(miss_labels==i)}.\")"
   ]
  },
  {
   "cell_type": "code",
   "execution_count": 70,
   "id": "threatened-aquatic",
   "metadata": {},
   "outputs": [
    {
     "data": {
      "image/png": "[encoded data removed]",
      "text/plain": [
       "<Figure size 864x1008 with 16 Axes>"
      ]
     },
     "metadata": {
      "needs_background": "light"
     },
     "output_type": "display_data"
    }
   ],
   "source": [
    "fig, ax = plt.subplots(4,4,figsize=(12,14)) \n",
    "ax = ax.ravel()\n",
    "idxs = np.random.permutation(miss_ims.shape[0])\n",
    "\n",
    "if len(idxs) < 16:\n",
    "    print(\"Less than 16 misclassifications.\")\n",
    "else:\n",
    "    for i in range(16):\n",
    "        idx = idxs[i]\n",
    "        ax[i].imshow(miss_ims[idx])\n",
    "        ax[i].set_title(f'True: {miss_labels[idx]}, Pred: {miss_preds[idx]}')\n",
    "    plt.show()"
   ]
  },
  {
   "cell_type": "code",
   "execution_count": null,
   "id": "former-disclosure",
   "metadata": {},
   "outputs": [],
   "source": []
  }
 ],
 "metadata": {
  "kernelspec": {
   "display_name": "Python 3",
   "language": "python",
   "name": "python3"
  },
  "language_info": {
   "codemirror_mode": {
    "name": "ipython",
    "version": 3
   },
   "file_extension": ".py",
   "mimetype": "text/x-python",
   "name": "python",
   "nbconvert_exporter": "python",
   "pygments_lexer": "ipython3",
   "version": "3.8.5"
  }
 },
 "nbformat": 4,
 "nbformat_minor": 5
}
