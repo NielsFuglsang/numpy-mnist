{
 "cells": [
  {
   "cell_type": "code",
   "execution_count": 1,
   "metadata": {},
   "outputs": [],
   "source": [
    "import matplotlib.pyplot as plt\n",
    "import numpy as np\n",
    "\n",
    "from helpers import read_mnist, format_data, iterate_minibatches, split_data, accuracy\n",
    "from nn import NeuralNetwork"
   ]
  },
  {
   "cell_type": "markdown",
   "metadata": {},
   "source": [
    "# Read data"
   ]
  },
  {
   "cell_type": "code",
   "execution_count": 2,
   "metadata": {},
   "outputs": [],
   "source": [
    "ims, labels, a, t = read_mnist()"
   ]
  },
  {
   "cell_type": "code",
   "execution_count": 3,
   "metadata": {},
   "outputs": [],
   "source": [
    "X, y = format_data(ims, labels)"
   ]
  },
  {
   "cell_type": "code",
   "execution_count": 4,
   "metadata": {},
   "outputs": [],
   "source": [
    "X_train, y_train, X_val, y_val = split_data(X, y, percentage=80)"
   ]
  },
  {
   "cell_type": "markdown",
   "metadata": {},
   "source": [
    "## Test training"
   ]
  },
  {
   "cell_type": "code",
   "execution_count": 5,
   "metadata": {},
   "outputs": [],
   "source": [
    "nn = NeuralNetwork(layers=[784, 400, 200, 10])"
   ]
  },
  {
   "cell_type": "code",
   "execution_count": 7,
   "metadata": {},
   "outputs": [
    {
     "name": "stderr",
     "output_type": "stream",
     "text": [
      "                                                                                                                       \r"
     ]
    }
   ],
   "source": [
    "from tqdm import tqdm\n",
    "epochs = 200\n",
    "batch_size = 100\n",
    "\n",
    "accuracy_train = []\n",
    "accuracy_val = []\n",
    "t = tqdm(range(epochs), leave=False)\n",
    "for i in t:\n",
    "    for batch in iterate_minibatches(X_train, y_train, batch_size):\n",
    "        x_batch, y_batch = batch\n",
    "        nn.backward(x_batch, y_batch, momentum=0.9)\n",
    "        \n",
    "    # Train accuracy.\n",
    "    yhat_train, _, _ = nn.forward(X_train)\n",
    "    acc_train = accuracy(yhat_train, y_train)\n",
    "    accuracy_train.append(acc_train)\n",
    "\n",
    "    # Validation accuracy.\n",
    "    yhat_val, _, _ = nn.forward(X_val)\n",
    "    acc_val = accuracy(yhat_val, y_val)\n",
    "    accuracy_val.append(acc_val)\n",
    "\n",
    "    t.set_description(\"Train acc.:{:.2f}, Val acc.:{:.2f}\".format(acc_train, acc_val))"
   ]
  },
  {
   "cell_type": "code",
   "execution_count": 8,
   "metadata": {},
   "outputs": [
    {
     "data": {
      "image/png": "[encoded data removed]",
      "text/plain": [
       "<Figure size 432x288 with 1 Axes>"
      ]
     },
     "metadata": {
      "needs_background": "light"
     },
     "output_type": "display_data"
    }
   ],
   "source": [
    "plt.figure()\n",
    "plt.plot(accuracy_train, label=\"Training accuracy\")\n",
    "plt.plot(accuracy_val, label=\"Validation accuracy\")\n",
    "plt.legend()\n",
    "plt.show()"
   ]
  },
  {
   "cell_type": "code",
   "execution_count": null,
   "metadata": {},
   "outputs": [],
   "source": []
  }
 ],
 "metadata": {
  "kernelspec": {
   "display_name": "Python 3",
   "language": "python",
   "name": "python3"
  },
  "language_info": {
   "codemirror_mode": {
    "name": "ipython",
    "version": 3
   },
   "file_extension": ".py",
   "mimetype": "text/x-python",
   "name": "python",
   "nbconvert_exporter": "python",
   "pygments_lexer": "ipython3",
   "version": "3.8.5"
  }
 },
 "nbformat": 4,
 "nbformat_minor": 5
}
